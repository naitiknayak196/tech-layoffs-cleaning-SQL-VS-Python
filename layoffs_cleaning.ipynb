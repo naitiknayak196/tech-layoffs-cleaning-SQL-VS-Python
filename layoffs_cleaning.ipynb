{
 "cells": [
  {
   "cell_type": "markdown",
   "id": "30d92986",
   "metadata": {},
   "source": [
    "# Layoff Cleaning and Analyzing "
   ]
  },
  {
   "cell_type": "code",
   "execution_count": 6,
   "id": "d2964d2e",
   "metadata": {},
   "outputs": [],
   "source": [
    "import pandas as pd\n",
    "df = pd.read_csv('layoffs (1).csv')\n"
   ]
  },
  {
   "cell_type": "code",
   "execution_count": 7,
   "id": "c8d10caf",
   "metadata": {},
   "outputs": [],
   "source": [
    "# Remove duplicate records\n",
    "df[\"row_num\"] = df.groupby([\"company\", \"location\", \"industry\", \"total_laid_off\", \"date\", \"stage\", \"country\", \"funds_raised_millions\"]).cumcount() + 1\n",
    "df = df[df[\"row_num\"] == 1]\n",
    "df.drop(columns=[\"row_num\"], inplace=True)"
   ]
  },
  {
   "cell_type": "code",
   "execution_count": 10,
   "id": "fc509b27",
   "metadata": {},
   "outputs": [],
   "source": [
    "# Standardizing company names\n",
    "df[\"company\"] = df[\"company\"].str.strip()"
   ]
  },
  {
   "cell_type": "code",
   "execution_count": 11,
   "id": "154123f8",
   "metadata": {},
   "outputs": [],
   "source": [
    "# Standardizing country names\n",
    "df.loc[df[\"country\"].str.startswith(\"United States\", na=False), \"country\"] = \"United States\"\n"
   ]
  },
  {
   "cell_type": "code",
   "execution_count": 12,
   "id": "9d5201fb",
   "metadata": {},
   "outputs": [],
   "source": [
    "# Convert date column to datetime format\n",
    "df[\"date\"] = pd.to_datetime(df[\"date\"], format='%m/%d/%Y', errors='coerce')"
   ]
  },
  {
   "cell_type": "code",
   "execution_count": 13,
   "id": "a706ae3a",
   "metadata": {},
   "outputs": [],
   "source": [
    "# Handling missing values in industry column\n",
    "df.loc[df[\"industry\"].str.strip() == \"\", \"industry\"] = None\n",
    "industry_map = df.groupby(\"company\")[\"industry\"].first()\n",
    "df[\"industry\"] = df[\"company\"].map(industry_map)"
   ]
  },
  {
   "cell_type": "code",
   "execution_count": 14,
   "id": "8a3b0e82",
   "metadata": {},
   "outputs": [],
   "source": [
    "#  Removing rows where total_laid_off and percentage_laid_off are NULL\n",
    "df = df.dropna(subset=[\"total_laid_off\", \"percentage_laid_off\"], how=\"all\")"
   ]
  },
  {
   "cell_type": "code",
   "execution_count": 17,
   "id": "06eaf207",
   "metadata": {},
   "outputs": [],
   "source": [
    "# Handling Outliers in total_laid_off\n",
    "Q1 = df[\"total_laid_off\"].quantile(0.25)\n",
    "Q3 = df[\"total_laid_off\"].quantile(0.75)\n",
    "IQR = Q3 - Q1\n",
    "lower_bound = Q1 - 1.5 * IQR\n",
    "upper_bound = Q3 + 1.5 * IQR\n",
    "df = df[(df[\"total_laid_off\"] >= lower_bound) & (df[\"total_laid_off\"] <= upper_bound)]\n"
   ]
  },
  {
   "cell_type": "code",
   "execution_count": 19,
   "id": "4cfee738",
   "metadata": {},
   "outputs": [
    {
     "data": {
      "text/html": [
       "<div>\n",
       "<style scoped>\n",
       "    .dataframe tbody tr th:only-of-type {\n",
       "        vertical-align: middle;\n",
       "    }\n",
       "\n",
       "    .dataframe tbody tr th {\n",
       "        vertical-align: top;\n",
       "    }\n",
       "\n",
       "    .dataframe thead th {\n",
       "        text-align: right;\n",
       "    }\n",
       "</style>\n",
       "<table border=\"1\" class=\"dataframe\">\n",
       "  <thead>\n",
       "    <tr style=\"text-align: right;\">\n",
       "      <th></th>\n",
       "      <th>company</th>\n",
       "      <th>location</th>\n",
       "      <th>industry</th>\n",
       "      <th>total_laid_off</th>\n",
       "      <th>percentage_laid_off</th>\n",
       "      <th>date</th>\n",
       "      <th>stage</th>\n",
       "      <th>country</th>\n",
       "      <th>funds_raised_millions</th>\n",
       "    </tr>\n",
       "  </thead>\n",
       "  <tbody>\n",
       "    <tr>\n",
       "      <th>3</th>\n",
       "      <td>UpGrad</td>\n",
       "      <td>Mumbai</td>\n",
       "      <td>Education</td>\n",
       "      <td>120.0</td>\n",
       "      <td>NaN</td>\n",
       "      <td>2023-03-06</td>\n",
       "      <td>Unknown</td>\n",
       "      <td>India</td>\n",
       "      <td>631.0</td>\n",
       "    </tr>\n",
       "    <tr>\n",
       "      <th>4</th>\n",
       "      <td>Loft</td>\n",
       "      <td>Sao Paulo</td>\n",
       "      <td>Real Estate</td>\n",
       "      <td>340.0</td>\n",
       "      <td>0.15</td>\n",
       "      <td>2023-03-03</td>\n",
       "      <td>Unknown</td>\n",
       "      <td>Brazil</td>\n",
       "      <td>788.0</td>\n",
       "    </tr>\n",
       "    <tr>\n",
       "      <th>5</th>\n",
       "      <td>Embark Trucks</td>\n",
       "      <td>SF Bay Area</td>\n",
       "      <td>Transportation</td>\n",
       "      <td>230.0</td>\n",
       "      <td>0.70</td>\n",
       "      <td>2023-03-03</td>\n",
       "      <td>Post-IPO</td>\n",
       "      <td>United States</td>\n",
       "      <td>317.0</td>\n",
       "    </tr>\n",
       "    <tr>\n",
       "      <th>6</th>\n",
       "      <td>Lendi</td>\n",
       "      <td>Sydney</td>\n",
       "      <td>Real Estate</td>\n",
       "      <td>100.0</td>\n",
       "      <td>NaN</td>\n",
       "      <td>2023-03-03</td>\n",
       "      <td>Unknown</td>\n",
       "      <td>Australia</td>\n",
       "      <td>59.0</td>\n",
       "    </tr>\n",
       "    <tr>\n",
       "      <th>7</th>\n",
       "      <td>UserTesting</td>\n",
       "      <td>SF Bay Area</td>\n",
       "      <td>Marketing</td>\n",
       "      <td>63.0</td>\n",
       "      <td>NaN</td>\n",
       "      <td>2023-03-03</td>\n",
       "      <td>Acquired</td>\n",
       "      <td>United States</td>\n",
       "      <td>152.0</td>\n",
       "    </tr>\n",
       "  </tbody>\n",
       "</table>\n",
       "</div>"
      ],
      "text/plain": [
       "         company     location        industry  total_laid_off  \\\n",
       "3         UpGrad       Mumbai       Education           120.0   \n",
       "4           Loft    Sao Paulo     Real Estate           340.0   \n",
       "5  Embark Trucks  SF Bay Area  Transportation           230.0   \n",
       "6          Lendi       Sydney     Real Estate           100.0   \n",
       "7    UserTesting  SF Bay Area       Marketing            63.0   \n",
       "\n",
       "   percentage_laid_off       date     stage        country  \\\n",
       "3                  NaN 2023-03-06   Unknown          India   \n",
       "4                 0.15 2023-03-03   Unknown         Brazil   \n",
       "5                 0.70 2023-03-03  Post-IPO  United States   \n",
       "6                  NaN 2023-03-03   Unknown      Australia   \n",
       "7                  NaN 2023-03-03  Acquired  United States   \n",
       "\n",
       "   funds_raised_millions  \n",
       "3                  631.0  \n",
       "4                  788.0  \n",
       "5                  317.0  \n",
       "6                   59.0  \n",
       "7                  152.0  "
      ]
     },
     "execution_count": 19,
     "metadata": {},
     "output_type": "execute_result"
    }
   ],
   "source": [
    "df.head()\n"
   ]
  },
  {
   "cell_type": "code",
   "execution_count": 20,
   "id": "34812346",
   "metadata": {},
   "outputs": [
    {
     "name": "stderr",
     "output_type": "stream",
     "text": [
      "/var/folders/b_/81pnbcn12j9_jgbwb9mnrym00000gn/T/ipykernel_19983/1658637383.py:2: SettingWithCopyWarning: \n",
      "A value is trying to be set on a copy of a slice from a DataFrame.\n",
      "Try using .loc[row_indexer,col_indexer] = value instead\n",
      "\n",
      "See the caveats in the documentation: https://pandas.pydata.org/pandas-docs/stable/user_guide/indexing.html#returning-a-view-versus-a-copy\n",
      "  df[\"funds_raised_millions\"] = pd.to_numeric(df[\"funds_raised_millions\"], errors=\"coerce\")\n"
     ]
    }
   ],
   "source": [
    "# Step 9: Convert funds_raised_millions to numeric\n",
    "df[\"funds_raised_millions\"] = pd.to_numeric(df[\"funds_raised_millions\"], errors=\"coerce\")"
   ]
  },
  {
   "cell_type": "code",
   "execution_count": 23,
   "id": "576d48a9",
   "metadata": {},
   "outputs": [
    {
     "name": "stdout",
     "output_type": "stream",
     "text": [
      "Data after cleaning :\n",
      "<class 'pandas.core.frame.DataFrame'>\n",
      "Index: 1326 entries, 3 to 2355\n",
      "Data columns (total 9 columns):\n",
      " #   Column                 Non-Null Count  Dtype         \n",
      "---  ------                 --------------  -----         \n",
      " 0   company                1326 non-null   object        \n",
      " 1   location               1326 non-null   object        \n",
      " 2   industry               1326 non-null   object        \n",
      " 3   total_laid_off         1326 non-null   float64       \n",
      " 4   percentage_laid_off    956 non-null    float64       \n",
      " 5   date                   1326 non-null   datetime64[ns]\n",
      " 6   stage                  1326 non-null   object        \n",
      " 7   country                1326 non-null   object        \n",
      " 8   funds_raised_millions  1326 non-null   float64       \n",
      "dtypes: datetime64[ns](1), float64(3), object(5)\n",
      "memory usage: 103.6+ KB\n",
      "None\n",
      "         company     location        industry  total_laid_off  \\\n",
      "3         UpGrad       Mumbai       Education           120.0   \n",
      "4           Loft    Sao Paulo     Real Estate           340.0   \n",
      "5  Embark Trucks  SF Bay Area  Transportation           230.0   \n",
      "6          Lendi       Sydney     Real Estate           100.0   \n",
      "7    UserTesting  SF Bay Area       Marketing            63.0   \n",
      "\n",
      "   percentage_laid_off       date     stage        country  \\\n",
      "3                  NaN 2023-03-06   Unknown          India   \n",
      "4                 0.15 2023-03-03   Unknown         Brazil   \n",
      "5                 0.70 2023-03-03  Post-IPO  United States   \n",
      "6                  NaN 2023-03-03   Unknown      Australia   \n",
      "7                  NaN 2023-03-03  Acquired  United States   \n",
      "\n",
      "   funds_raised_millions  \n",
      "3                  631.0  \n",
      "4                  788.0  \n",
      "5                  317.0  \n",
      "6                   59.0  \n",
      "7                  152.0  \n"
     ]
    }
   ],
   "source": [
    "# Checking dataset changes \n",
    "print(\"Data after cleaning :\")\n",
    "print(df.info())\n",
    "print(df.head())"
   ]
  },
  {
   "cell_type": "code",
   "execution_count": 24,
   "id": "a319b471",
   "metadata": {},
   "outputs": [
    {
     "name": "stdout",
     "output_type": "stream",
     "text": [
      "Max layoffs in a single event: 370.0\n"
     ]
    }
   ],
   "source": [
    "max_layoffs = df[\"total_laid_off\"].max()\n",
    "print(\"Max layoffs in a single event:\", max_layoffs)"
   ]
  },
  {
   "cell_type": "code",
   "execution_count": 25,
   "id": "6a96849a",
   "metadata": {},
   "outputs": [
    {
     "name": "stdout",
     "output_type": "stream",
     "text": [
      "Max percentage of workforce laid off: 1.0\n"
     ]
    }
   ],
   "source": [
    "max_percentage = df[\"percentage_laid_off\"].max()\n",
    "print(\"Max percentage of workforce laid off:\", max_percentage)"
   ]
  },
  {
   "cell_type": "code",
   "execution_count": 28,
   "id": "ed6e26dc",
   "metadata": {},
   "outputs": [
    {
     "name": "stdout",
     "output_type": "stream",
     "text": [
      "Companies with 100% layoffs ordered by funds raised:\n",
      "                  company     location        industry  total_laid_off  \\\n",
      "340           Britishvolt       London  Transportation           206.0   \n",
      "699   Deliveroo Australia    Melbourne            Food           120.0   \n",
      "145               Openpay    Melbourne         Finance            83.0   \n",
      "1001         Simple Feast   Copenhagen            Food           150.0   \n",
      "1051                Reali  SF Bay Area     Real Estate           140.0   \n",
      "\n",
      "      percentage_laid_off       date     stage         country  \\\n",
      "340                   1.0 2023-01-17   Unknown  United Kingdom   \n",
      "699                   1.0 2022-11-15  Post-IPO       Australia   \n",
      "145                   1.0 2023-02-07  Post-IPO       Australia   \n",
      "1001                  1.0 2022-09-07   Unknown         Denmark   \n",
      "1051                  1.0 2022-08-24  Series B   United States   \n",
      "\n",
      "      funds_raised_millions  \n",
      "340                  2400.0  \n",
      "699                  1700.0  \n",
      "145                   299.0  \n",
      "1001                  173.0  \n",
      "1051                  117.0  \n"
     ]
    }
   ],
   "source": [
    "high_impact_layoffs = df[df[\"percentage_laid_off\"] == 1].sort_values(\"funds_raised_millions\", ascending=False)\n",
    "print(\"Companies with 100% layoffs ordered by funds raised:\")\n",
    "print(high_impact_layoffs.head())"
   ]
  },
  {
   "cell_type": "code",
   "execution_count": 31,
   "id": "7880e76c",
   "metadata": {},
   "outputs": [
    {
     "name": "stdout",
     "output_type": "stream",
     "text": [
      "Total layoffs per company:\n",
      "        company  total_laid_off\n",
      "1063     WeWork          1150.0\n",
      "558        Loft           905.0\n",
      "1052      Vroom           882.0\n",
      "105       Blend           860.0\n",
      "263   Deliveroo           717.0\n"
     ]
    }
   ],
   "source": [
    "company_layoffs = df.groupby(\"company\")[\"total_laid_off\"].sum().reset_index().sort_values(\"total_laid_off\", ascending=False)\n",
    "print(\"Total layoffs per company:\")\n",
    "print(company_layoffs.head())"
   ]
  },
  {
   "cell_type": "code",
   "execution_count": 32,
   "id": "4593a1d8",
   "metadata": {},
   "outputs": [
    {
     "name": "stdout",
     "output_type": "stream",
     "text": [
      "Date range of layoffs: (Timestamp('2020-03-11 00:00:00'), Timestamp('2023-03-06 00:00:00'))\n"
     ]
    }
   ],
   "source": [
    "date_range = df[\"date\"].min(), df[\"date\"].max()\n",
    "print(\"Date range of layoffs:\", date_range)"
   ]
  },
  {
   "cell_type": "code",
   "execution_count": 33,
   "id": "0feff2f5",
   "metadata": {},
   "outputs": [
    {
     "name": "stdout",
     "output_type": "stream",
     "text": [
      "Industry with highest layoffs:\n",
      "          industry  total_laid_off\n",
      "20       Marketing           370.0\n",
      "12            Food           367.0\n",
      "10         Finance           365.0\n",
      "30  Transportation           360.0\n",
      "26          Retail           360.0\n"
     ]
    }
   ],
   "source": [
    "industry_layoffs = df.groupby(\"industry\")[\"total_laid_off\"].max().reset_index().sort_values(\"total_laid_off\", ascending=False)\n",
    "print(\"Industry with highest layoffs:\")\n",
    "print(industry_layoffs.head())"
   ]
  },
  {
   "cell_type": "code",
   "execution_count": 34,
   "id": "ee5e78b1",
   "metadata": {},
   "outputs": [
    {
     "name": "stdout",
     "output_type": "stream",
     "text": [
      "Total layoffs by country:\n",
      "          country  total_laid_off\n",
      "39  United States         75756.0\n",
      "14          India         13574.0\n",
      "3          Brazil          6225.0\n",
      "12        Germany          4412.0\n",
      "4          Canada          4366.0\n"
     ]
    }
   ],
   "source": [
    "country_layoffs = df.groupby(\"country\")[\"total_laid_off\"].sum().reset_index().sort_values(\"total_laid_off\", ascending=False)\n",
    "print(\"Total layoffs by country:\")\n",
    "print(country_layoffs.head())"
   ]
  },
  {
   "cell_type": "code",
   "execution_count": 35,
   "id": "3ca102e3",
   "metadata": {},
   "outputs": [
    {
     "name": "stdout",
     "output_type": "stream",
     "text": [
      "Yearly layoffs:\n",
      "   date  total_laid_off\n",
      "3  2023         26348.0\n",
      "2  2022         64065.0\n",
      "1  2021          2399.0\n",
      "0  2020         30650.0\n"
     ]
    }
   ],
   "source": [
    "yearly_layoffs = df.groupby(df[\"date\"].dt.year)[\"total_laid_off\"].sum().reset_index().sort_values(\"date\", ascending=False)\n",
    "print(\"Yearly layoffs:\")\n",
    "print(yearly_layoffs)\n"
   ]
  },
  {
   "cell_type": "code",
   "execution_count": 36,
   "id": "591349b7",
   "metadata": {},
   "outputs": [
    {
     "name": "stdout",
     "output_type": "stream",
     "text": [
      "Monthly layoffs with rolling total:\n",
      "       date  total_laid_off  rolling_total\n",
      "0   2020-03          6165.0         6165.0\n",
      "1   2020-04         12362.0        18527.0\n",
      "2   2020-05          5324.0        23851.0\n",
      "3   2020-06          2601.0        26452.0\n",
      "4   2020-07          1777.0        28229.0\n",
      "5   2020-08           969.0        29198.0\n",
      "6   2020-09           609.0        29807.0\n",
      "7   2020-10           450.0        30257.0\n",
      "8   2020-11           219.0        30476.0\n",
      "9   2020-12           174.0        30650.0\n",
      "10  2021-01           536.0        31186.0\n",
      "11  2021-02           855.0        32041.0\n",
      "12  2021-03            47.0        32088.0\n",
      "13  2021-04           261.0        32349.0\n",
      "14  2021-07            80.0        32429.0\n",
      "15  2021-08            67.0        32496.0\n",
      "16  2021-09           161.0        32657.0\n",
      "17  2021-10            22.0        32679.0\n",
      "18  2021-11            70.0        32749.0\n",
      "19  2021-12           300.0        33049.0\n",
      "20  2022-01           510.0        33559.0\n",
      "21  2022-02           885.0        34444.0\n",
      "22  2022-03          1764.0        36208.0\n",
      "23  2022-04          2133.0        38341.0\n",
      "24  2022-05          5711.0        44052.0\n",
      "25  2022-06         11814.0        55866.0\n",
      "26  2022-07          6269.0        62135.0\n",
      "27  2022-08          6692.0        68827.0\n",
      "28  2022-09          4410.0        73237.0\n",
      "29  2022-10          5730.0        78967.0\n",
      "30  2022-11         11385.0        90352.0\n",
      "31  2022-12          6762.0        97114.0\n",
      "32  2023-01         13361.0       110475.0\n",
      "33  2023-02         10472.0       120947.0\n",
      "34  2023-03          2515.0       123462.0\n"
     ]
    }
   ],
   "source": [
    "monthly_layoffs = df.groupby(df[\"date\"].dt.to_period(\"M\"))[\"total_laid_off\"].sum().reset_index().sort_values(\"date\")\n",
    "monthly_layoffs[\"rolling_total\"] = monthly_layoffs[\"total_laid_off\"].cumsum()\n",
    "print(\"Monthly layoffs with rolling total:\")\n",
    "print(monthly_layoffs)"
   ]
  },
  {
   "cell_type": "code",
   "execution_count": 37,
   "id": "d7e58cb4",
   "metadata": {},
   "outputs": [
    {
     "name": "stdout",
     "output_type": "stream",
     "text": [
      "Company layoffs per year:\n",
      "         company  date  total_laid_off\n",
      "1168      WeWork  2020           850.0\n",
      "635   MakeMyTrip  2020           700.0\n",
      "1155       Vroom  2022           607.0\n",
      "57       Argo AI  2022           582.0\n",
      "296         Doma  2022           560.0\n"
     ]
    }
   ],
   "source": [
    "company_year_layoffs = df.groupby([\"company\", df[\"date\"].dt.year])[\"total_laid_off\"].sum().reset_index().sort_values(\"total_laid_off\", ascending=False)\n",
    "print(\"Company layoffs per year:\")\n",
    "print(company_year_layoffs.head())"
   ]
  },
  {
   "cell_type": "code",
   "execution_count": 38,
   "id": "d12b0a89",
   "metadata": {},
   "outputs": [
    {
     "name": "stdout",
     "output_type": "stream",
     "text": [
      "Top 5 companies per year with highest layoffs:\n",
      "            company  date  total_laid_off  rank\n",
      "1168         WeWork  2020           850.0   1.0\n",
      "635      MakeMyTrip  2020           700.0   2.0\n",
      "1155          Vroom  2022           607.0   1.0\n",
      "57          Argo AI  2022           582.0   2.0\n",
      "296            Doma  2022           560.0   3.0\n",
      "1102          Udaan  2022           530.0   4.0\n",
      "108           Blend  2022           520.0   5.0\n",
      "1185            Wix  2023           370.0   1.0\n",
      "281       Deliveroo  2020           367.0   3.0\n",
      "1121        Upstart  2023           365.0   2.0\n",
      "923      Shutterfly  2023           360.0   3.0\n",
      "670         Moladin  2023           360.0   3.0\n",
      "425            Grab  2020           360.0   4.0\n",
      "1232          iFood  2023           355.0   4.0\n",
      "1005         Swiggy  2020           350.0   5.0\n",
      "282       Deliveroo  2023           350.0   5.0\n",
      "305         Dropbox  2021           315.0   1.0\n",
      "284   Delivery Hero  2021           300.0   2.0\n",
      "1050        ThredUp  2021           243.0   3.0\n",
      "701       Ninjacart  2021           200.0   4.0\n",
      "127          Bounce  2021           200.0   4.0\n",
      "808       Postmates  2021           180.0   5.0\n"
     ]
    }
   ],
   "source": [
    "company_year_ranked = company_year_layoffs.copy()\n",
    "company_year_ranked[\"rank\"] = company_year_ranked.groupby(\"date\")[\"total_laid_off\"].rank(method=\"dense\", ascending=False)\n",
    "top_companies_per_year = company_year_ranked[company_year_ranked[\"rank\"] <= 5]\n",
    "print(\"Top 5 companies per year with highest layoffs:\")\n",
    "print(top_companies_per_year)"
   ]
  },
  {
   "cell_type": "code",
   "execution_count": 39,
   "id": "7b2060af",
   "metadata": {},
   "outputs": [],
   "source": [
    "# Save the cleaned dataset\n",
    "df.to_csv(\"layoffs_cleaned.csv\", index=False)"
   ]
  },
  {
   "cell_type": "code",
   "execution_count": null,
   "id": "490e0ebc",
   "metadata": {},
   "outputs": [],
   "source": []
  },
  {
   "cell_type": "code",
   "execution_count": null,
   "id": "e29ab47d",
   "metadata": {},
   "outputs": [],
   "source": []
  },
  {
   "cell_type": "code",
   "execution_count": null,
   "id": "d58d49bf",
   "metadata": {},
   "outputs": [],
   "source": []
  },
  {
   "cell_type": "code",
   "execution_count": null,
   "id": "0b182825",
   "metadata": {},
   "outputs": [],
   "source": []
  }
 ],
 "metadata": {
  "kernelspec": {
   "display_name": "Python 3 (ipykernel)",
   "language": "python",
   "name": "python3"
  },
  "language_info": {
   "codemirror_mode": {
    "name": "ipython",
    "version": 3
   },
   "file_extension": ".py",
   "mimetype": "text/x-python",
   "name": "python",
   "nbconvert_exporter": "python",
   "pygments_lexer": "ipython3",
   "version": "3.11.5"
  }
 },
 "nbformat": 4,
 "nbformat_minor": 5
}
